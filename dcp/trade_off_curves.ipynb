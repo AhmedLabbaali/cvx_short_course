{
 "cells": [
  {
   "cell_type": "code",
   "execution_count": 1,
   "metadata": {
    "collapsed": false
   },
   "outputs": [],
   "source": [
    "# Generate data for problem.\n",
    "import numpy as np\n",
    "np.random.seed(1)\n",
    "m = 25\n",
    "n = 10\n",
    "A = np.random.randn(m, n)\n",
    "b = np.random.randn(m, 1)"
   ]
  },
  {
   "cell_type": "code",
   "execution_count": 2,
   "metadata": {
    "collapsed": false
   },
   "outputs": [],
   "source": [
    "# Form and solve problem.\n",
    "from cvxpy import *\n",
    "gamma = Parameter(nonneg=True)\n",
    "gamma.value = 1\n",
    "x = Variable(n)\n",
    "cost = sum_squares(A*x-b) + gamma*norm(x,1)\n",
    "prob = Problem(Minimize(cost),\n",
    "               [norm(x,\"inf\") <= 1])\n",
    "opt_val = prob.solve()\n",
    "solution = x.value"
   ]
  },
  {
   "cell_type": "code",
   "execution_count": null,
   "metadata": {
    "collapsed": false
   },
   "outputs": [],
   "source": [
    "# For loop style trade-off curve.\n",
    "gamma_vals = np.logspace(-4, 2, 100)\n",
    "x_values = []\n",
    "for val in gamma_vals:\n",
    "    gamma.value = val\n",
    "    prob.solve()\n",
    "    x_values.append(x.value)"
   ]
  },
  {
   "cell_type": "code",
   "execution_count": null,
   "metadata": {
    "collapsed": false
   },
   "outputs": [],
   "source": [
    "# Parallel style trade-off curve.\n",
    "\n",
    "# Use tools for parallelism in standard library.\n",
    "from multiprocessing import Pool\n",
    "\n",
    "# Function maps gamma value to optimal x.\n",
    "def get_x(gamma_value):\n",
    "    gamma.value = gamma_value\n",
    "    result = prob.solve()\n",
    "    return x.value\n",
    "\n",
    "# Parallel computation with N processes.\n",
    "N = 4\n",
    "pool = Pool(processes = N)\n",
    "x_values = pool.map(get_x, gamma_vals)"
   ]
  },
  {
   "cell_type": "code",
   "execution_count": null,
   "metadata": {
    "collapsed": false
   },
   "outputs": [],
   "source": [
    "# Plot regularization path.\n",
    "import matplotlib.pyplot as plt\n",
    "%matplotlib inline\n",
    "%config InlineBackend.figure_format = 'svg'\n",
    "\n",
    "for i in range(n):\n",
    "    plt.plot(gamma_vals, [xi[i,0] for xi in x_values])\n",
    "plt.xlabel(r\"$\\gamma$\", fontsize=16)\n",
    "plt.ylabel(r\"$x_i$\", fontsize=16)\n",
    "plt.xscale(\"log\")\n",
    "plt.title(r\"Entries of $x$ versus $\\gamma$\", fontsize=16)"
   ]
  }
 ],
 "metadata": {
  "kernelspec": {
   "display_name": "Python 2",
   "language": "python",
   "name": "python2"
  },
  "language_info": {
   "codemirror_mode": {
    "name": "ipython",
    "version": 2
   },
   "file_extension": ".py",
   "mimetype": "text/x-python",
   "name": "python",
   "nbconvert_exporter": "python",
   "pygments_lexer": "ipython2",
   "version": "2.7.11"
  }
 },
 "nbformat": 4,
 "nbformat_minor": 0
}
